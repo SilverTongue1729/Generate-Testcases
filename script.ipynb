{
 "cells": [
  {
   "cell_type": "code",
   "execution_count": null,
   "metadata": {},
   "outputs": [],
   "source": [
    "# clear input files\n",
    "# # # ! truncate -s 0 *.txt inputs/*.txt\n",
    "# comment after running!!"
   ]
  },
  {
   "cell_type": "code",
   "execution_count": 26,
   "metadata": {},
   "outputs": [],
   "source": [
    "# make medium inputs\n",
    "! python inputs/make_inputs_medium.py inputs/medium.txt"
   ]
  },
  {
   "cell_type": "code",
   "execution_count": 23,
   "metadata": {},
   "outputs": [],
   "source": [
    "# make large inputs\n",
    "! python inputs/make_inputs_large.py inputs/large.txt"
   ]
  },
  {
   "cell_type": "code",
   "execution_count": 27,
   "metadata": {},
   "outputs": [],
   "source": [
    "# concate all inputs into input_all.txt\n",
    "! cat inputs/samples.txt <(echo -e \"\\n\\n\") inputs/small.txt <(echo -e \"\\n\\n\") inputs/medium.txt <(echo -e \"\\n\\n\") inputs/large.txt > inputs_all.txt"
   ]
  },
  {
   "cell_type": "code",
   "execution_count": 28,
   "metadata": {},
   "outputs": [
    {
     "name": "stdout",
     "output_type": "stream",
     "text": [
      "Test case tests/1.in completed.\n",
      "Test case tests/2.in completed.\n",
      "Test case tests/3.in completed.\n",
      "Test case tests/4.in completed.\n",
      "Test case tests/5.in completed.\n",
      "Test case tests/6.in completed.\n",
      "Test case tests/7.in completed.\n",
      "Test case tests/8.in completed.\n",
      "Test case tests/9.in completed.\n",
      "Test case tests/10.in completed.\n"
     ]
    }
   ],
   "source": [
    "# make tests\n",
    "! python make_tests.py sol.c inputs_all.txt tests/ 1\n",
    "# ! python make_tests.py sol.c inputs/large.txt tests/ 1"
   ]
  },
  {
   "cell_type": "code",
   "execution_count": 29,
   "metadata": {},
   "outputs": [
    {
     "name": "stdout",
     "output_type": "stream",
     "text": [
      " 1: 1.in                : AC, time: 0.001\n",
      " 2: 10.in               : AC, time: 0.028\n",
      " 3: 11.in               : AC, time: 0.021\n",
      " 4: 2.in                : AC, time: 0.001\n",
      " 5: 3.in                : AC, time: 0.001\n",
      " 6: 4.in                : AC, time: 0.001\n",
      " 7: 5.in                : AC, time: 0.001\n",
      " 8: 6.in                : AC, time: 0.010\n",
      " 9: 7.in                : AC, time: 0.011\n",
      "10: 8.in                : AC, time: 0.010\n",
      "11: 9.in                : AC, time: 0.017\n",
      "\n",
      "VERDICT: AC\n",
      "Total test cases: 11\n",
      "AC count: 11/11\n",
      "WA count: 0/11\n",
      "Max execution time: 0.028\n"
     ]
    }
   ],
   "source": [
    "# check tests\n",
    "! python check_sol.py sol.c tests/"
   ]
  },
  {
   "cell_type": "code",
   "execution_count": 15,
   "metadata": {},
   "outputs": [
    {
     "name": "stdout",
     "output_type": "stream",
     "text": [
      "usage: checker.py [-h] [--flags FLAGS [FLAGS ...]]\n",
      "                  code_file tests_folder [compiler]\n",
      "\n",
      "Code Checker\n",
      "\n",
      "positional arguments:\n",
      "  code_file             Path to the code file (e.g., sol.c)\n",
      "  tests_folder          Path to the folder containing test cases (e.g.,\n",
      "                        ./tests)\n",
      "  compiler              Compiler to use (e.g., gcc)\n",
      "\n",
      "options:\n",
      "  -h, --help            show this help message and exit\n",
      "  --flags FLAGS [FLAGS ...]\n",
      "                        Compiler flags as a list (e.g., --flags -O2 -Wall)\n"
     ]
    }
   ],
   "source": [
    "! python check_sol.py -h"
   ]
  },
  {
   "cell_type": "code",
   "execution_count": 36,
   "metadata": {},
   "outputs": [
    {
     "name": "stdout",
     "output_type": "stream",
     "text": [
      "Input ended prematurely in tests/2.in.\n",
      "2.in                : Incorrect\n",
      "Input ended prematurely in tests/10.in.\n",
      "10.in               : Incorrect\n",
      "Input ended prematurely in tests/6.in.\n",
      "6.in                : Incorrect\n",
      "Input ended prematurely in tests/7.in.\n",
      "7.in                : Incorrect\n",
      "Input ended prematurely in tests/3.in.\n",
      "3.in                : Incorrect\n",
      "Input ended prematurely in tests/5.in.\n",
      "5.in                : Incorrect\n",
      "Input ended prematurely in tests/1.in.\n",
      "1.in                : Incorrect\n",
      "Input ended prematurely in tests/8.in.\n",
      "8.in                : Incorrect\n",
      "Input ended prematurely in tests/9.in.\n",
      "9.in                : Incorrect\n",
      "Input ended prematurely in tests/4.in.\n",
      "4.in                : Incorrect\n"
     ]
    }
   ],
   "source": [
    "! python check_test.py tests/"
   ]
  }
 ],
 "metadata": {
  "kernelspec": {
   "display_name": "base",
   "language": "python",
   "name": "python3"
  },
  "language_info": {
   "codemirror_mode": {
    "name": "ipython",
    "version": 3
   },
   "file_extension": ".py",
   "mimetype": "text/x-python",
   "name": "python",
   "nbconvert_exporter": "python",
   "pygments_lexer": "ipython3",
   "version": "3.10.12"
  },
  "orig_nbformat": 4
 },
 "nbformat": 4,
 "nbformat_minor": 2
}
