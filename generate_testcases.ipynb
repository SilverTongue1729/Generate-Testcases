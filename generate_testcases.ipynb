{
 "cells": [
  {
   "cell_type": "markdown",
   "metadata": {},
   "source": [
    "Clear input files"
   ]
  },
  {
   "cell_type": "code",
   "execution_count": null,
   "metadata": {},
   "outputs": [
    {
     "name": "stdout",
     "output_type": "stream",
     "text": [
      "zsh:1: no matches found: *.txt\n"
     ]
    }
   ],
   "source": [
    "!truncate -s 0 *.txt data/*.txt"
   ]
  },
  {
   "cell_type": "markdown",
   "metadata": {},
   "source": [
    "Generate medium inputs"
   ]
  },
  {
   "cell_type": "code",
   "execution_count": null,
   "metadata": {},
   "outputs": [],
   "source": [
    "!python generators/generator_medium.py data/medium.txt"
   ]
  },
  {
   "cell_type": "markdown",
   "metadata": {},
   "source": [
    "Generate large inputs"
   ]
  },
  {
   "cell_type": "code",
   "execution_count": null,
   "metadata": {},
   "outputs": [],
   "source": [
    "!python generators/generator_large.py data/large.txt"
   ]
  },
  {
   "cell_type": "markdown",
   "metadata": {},
   "source": [
    "Concate all inputs into input_all.txt"
   ]
  },
  {
   "cell_type": "code",
   "execution_count": null,
   "metadata": {},
   "outputs": [],
   "source": [
    "!cat data/samples.txt <(echo -e \"\\n\\n\") data/small.txt <(echo -e \"\\n\\n\") data/medium.txt <(echo -e \"\\n\\n\") data/large.txt > data/all_inputs.txt"
   ]
  },
  {
   "cell_type": "markdown",
   "metadata": {},
   "source": [
    "Generate test cases"
   ]
  },
  {
   "cell_type": "code",
   "execution_count": null,
   "metadata": {},
   "outputs": [
    {
     "name": "stdout",
     "output_type": "stream",
     "text": [
      "Test case tests/1.in completed.\n",
      "Test case tests/2.in completed.\n",
      "Test case tests/3.in completed.\n",
      "Test case tests/4.in completed.\n",
      "Test case tests/5.in completed.\n",
      "Test case tests/6.in completed.\n",
      "Test case tests/7.in completed.\n",
      "Test case tests/8.in completed.\n",
      "Test case tests/9.in completed.\n",
      "Test case tests/10.in completed.\n"
     ]
    }
   ],
   "source": [
    "!python tools/testcase_generator.py solutions/correct_solution_01.c data/all_inputs.txt tests/ 1"
   ]
  },
  {
   "cell_type": "markdown",
   "metadata": {},
   "source": [
    "How to use checker.py"
   ]
  },
  {
   "cell_type": "code",
   "execution_count": null,
   "metadata": {},
   "outputs": [
    {
     "name": "stdout",
     "output_type": "stream",
     "text": [
      "usage: checker.py [-h] [--flags FLAGS [FLAGS ...]]\n",
      "                  code_file tests_folder [compiler]\n",
      "\n",
      "Code Checker\n",
      "\n",
      "positional arguments:\n",
      "  code_file             Path to the code file (e.g., sol.c)\n",
      "  tests_folder          Path to the folder containing test cases (e.g.,\n",
      "                        ./tests)\n",
      "  compiler              Compiler to use (e.g., gcc)\n",
      "\n",
      "options:\n",
      "  -h, --help            show this help message and exit\n",
      "  --flags FLAGS [FLAGS ...]\n",
      "                        Compiler flags as a list (e.g., --flags -O2 -Wall)\n"
     ]
    }
   ],
   "source": [
    "! python tools/checker.py -h"
   ]
  },
  {
   "cell_type": "markdown",
   "metadata": {},
   "source": [
    "Check solution"
   ]
  },
  {
   "cell_type": "code",
   "execution_count": null,
   "metadata": {},
   "outputs": [
    {
     "name": "stdout",
     "output_type": "stream",
     "text": [
      " 1: 1.in                : AC, time: 0.001\n",
      " 2: 10.in               : AC, time: 0.028\n",
      " 3: 11.in               : AC, time: 0.021\n",
      " 4: 2.in                : AC, time: 0.001\n",
      " 5: 3.in                : AC, time: 0.001\n",
      " 6: 4.in                : AC, time: 0.001\n",
      " 7: 5.in                : AC, time: 0.001\n",
      " 8: 6.in                : AC, time: 0.010\n",
      " 9: 7.in                : AC, time: 0.011\n",
      "10: 8.in                : AC, time: 0.010\n",
      "11: 9.in                : AC, time: 0.017\n",
      "\n",
      "VERDICT: AC\n",
      "Total test cases: 11\n",
      "AC count: 11/11\n",
      "WA count: 0/11\n",
      "Max execution time: 0.028\n"
     ]
    }
   ],
   "source": [
    "!python tools/checker.py solutions/correct_solution_01.c tests/"
   ]
  },
  {
   "cell_type": "markdown",
   "metadata": {},
   "source": [
    "Validate tests"
   ]
  },
  {
   "cell_type": "code",
   "execution_count": null,
   "metadata": {},
   "outputs": [
    {
     "name": "stdout",
     "output_type": "stream",
     "text": [
      "Input ended prematurely in tests/2.in.\n",
      "2.in                : Incorrect\n",
      "Input ended prematurely in tests/10.in.\n",
      "10.in               : Incorrect\n",
      "Input ended prematurely in tests/6.in.\n",
      "6.in                : Incorrect\n",
      "Input ended prematurely in tests/7.in.\n",
      "7.in                : Incorrect\n",
      "Input ended prematurely in tests/3.in.\n",
      "3.in                : Incorrect\n",
      "Input ended prematurely in tests/5.in.\n",
      "5.in                : Incorrect\n",
      "Input ended prematurely in tests/1.in.\n",
      "1.in                : Incorrect\n",
      "Input ended prematurely in tests/8.in.\n",
      "8.in                : Incorrect\n",
      "Input ended prematurely in tests/9.in.\n",
      "9.in                : Incorrect\n",
      "Input ended prematurely in tests/4.in.\n",
      "4.in                : Incorrect\n"
     ]
    }
   ],
   "source": [
    "!python scripts/check_test.py tests/"
   ]
  },
  {
   "cell_type": "markdown",
   "metadata": {},
   "source": [
    "Zip tests"
   ]
  },
  {
   "cell_type": "code",
   "execution_count": null,
   "metadata": {},
   "outputs": [
    {
     "name": "stdout",
     "output_type": "stream",
     "text": [
      "  adding: tests/ (stored 0%)\n",
      "  adding: tests/1.out (stored 0%)\n",
      "  adding: tests/1.in (stored 0%)\n",
      "  adding: tests/7.out (stored 0%)\n",
      "  adding: tests/12.out (deflated 84%)\n",
      "  adding: tests/2.in (stored 0%)\n",
      "  adding: tests/10.out (deflated 84%)\n",
      "  adding: tests/12.in (deflated 84%)\n",
      "  adding: tests/6.out (stored 0%)\n",
      "  adding: tests/11.in (deflated 84%)\n",
      "  adding: tests/7.in (deflated 100%)\n",
      "  adding: tests/9.in (deflated 84%)\n",
      "  adding: tests/8.out (stored 0%)\n",
      "  adding: tests/4.in (stored 0%)\n",
      "  adding: tests/9.out (deflated 84%)\n",
      "  adding: tests/10.in (deflated 84%)\n",
      "  adding: tests/2.out (stored 0%)\n",
      "  adding: tests/6.in (deflated 100%)\n",
      "  adding: tests/11.out (deflated 84%)\n",
      "  adding: tests/5.out (stored 0%)\n",
      "  adding: tests/3.out (stored 0%)\n",
      "  adding: tests/5.in (deflated 13%)\n",
      "  adding: tests/3.in (stored 0%)\n",
      "  adding: tests/8.in (deflated 100%)\n",
      "  adding: tests/4.out (stored 0%)\n"
     ]
    }
   ],
   "source": [
    "!zip -r tests.zip tests/"
   ]
  }
 ],
 "metadata": {
  "kernelspec": {
   "display_name": "Python 3",
   "language": "python",
   "name": "python3"
  },
  "language_info": {
   "codemirror_mode": {
    "name": "ipython",
    "version": 3
   },
   "file_extension": ".py",
   "mimetype": "text/x-python",
   "name": "python",
   "nbconvert_exporter": "python",
   "pygments_lexer": "ipython3",
   "version": "3.12.3"
  },
  "orig_nbformat": 4
 },
 "nbformat": 4,
 "nbformat_minor": 2
}
